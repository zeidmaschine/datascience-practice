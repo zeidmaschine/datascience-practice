{
 "cells": [
  {
   "cell_type": "markdown",
   "id": "2074d430-6e4f-49f8-b4c2-68e58af1c2dd",
   "metadata": {},
   "source": [
    "# Data Science Tools and Ecosystem"
   ]
  },
  {
   "cell_type": "markdown",
   "id": "b2e5bc7d-8a07-4c35-be51-b048296a6e9d",
   "metadata": {},
   "source": [
    "In this Notebook, Data Science Tools and Ecosystem are summarized"
   ]
  },
  {
   "cell_type": "markdown",
   "id": "85c2cc92-8a68-4902-852e-961e68f7bdbd",
   "metadata": {},
   "source": [
    "Objectives:\n",
    "\n",
    "- Popular languages for Data Scientist\n",
    "- Common libraries\n",
    "- Data Science Tools\n",
    "- Arithmetic expressions in Python"
   ]
  },
  {
   "cell_type": "markdown",
   "id": "58eb4376-cd2f-4733-9095-358a16f9e7be",
   "metadata": {},
   "source": [
    "Some of the popular languages that Data Scientists are:\n",
    "1. Python\n",
    "2. C\n",
    "3. C++\n",
    "4. Java"
   ]
  },
  {
   "cell_type": "markdown",
   "id": "53ca837b-a6a4-47c2-b69c-df4fef41a082",
   "metadata": {},
   "source": [
    "Some of the commonly used libraries used by Data Scientists include:\n",
    "\n",
    "1. Pandas\n",
    "2. NumPy\n",
    "3. Matplotlib"
   ]
  },
  {
   "cell_type": "markdown",
   "id": "bbe26e17-f964-47a4-9af8-0e658c5c37fd",
   "metadata": {},
   "source": [
    "|Data Science Tools|\n",
    "--------------------\n",
    "|Git|\n",
    "|NetBeans|\n",
    "|VS Code| "
   ]
  },
  {
   "cell_type": "markdown",
   "id": "9a9a3f31-b9be-40f2-a663-6b0845cadfda",
   "metadata": {},
   "source": [
    "### Below are a few examples of evaluating arithmetic expressions in Python"
   ]
  },
  {
   "cell_type": "code",
   "execution_count": 1,
   "id": "4690a612-7a22-4a82-bdaf-6684b9e87cf5",
   "metadata": {},
   "outputs": [
    {
     "data": {
      "text/plain": [
       "17"
      ]
     },
     "execution_count": 1,
     "metadata": {},
     "output_type": "execute_result"
    }
   ],
   "source": [
    "#This is a simple arithmetic expression to multiply then add integers\n",
    "(3*4)+5"
   ]
  },
  {
   "cell_type": "code",
   "execution_count": 23,
   "id": "5b9ad194-c20f-4191-b4dc-7823acb34fb6",
   "metadata": {},
   "outputs": [
    {
     "name": "stdout",
     "output_type": "stream",
     "text": [
      "200 minutes equal 3.33 hours\n"
     ]
    }
   ],
   "source": [
    "#This will convert 200 minutes to hours by dividing by 60\n",
    "\n",
    "calc=round(200/60,2)\n",
    "\n",
    "print(\"200 minutes equal\", calc,\"hours\")"
   ]
  },
  {
   "cell_type": "markdown",
   "id": "1be40f69-928e-4b15-b1a9-b02021cca4e1",
   "metadata": {},
   "source": [
    "## Author \n",
    "Zeid Haron"
   ]
  },
  {
   "cell_type": "code",
   "execution_count": null,
   "id": "c31b81ac-55dc-450e-9887-edea85935af8",
   "metadata": {},
   "outputs": [],
   "source": []
  }
 ],
 "metadata": {
  "kernelspec": {
   "display_name": "Python 3 (ipykernel)",
   "language": "python",
   "name": "python3"
  },
  "language_info": {
   "codemirror_mode": {
    "name": "ipython",
    "version": 3
   },
   "file_extension": ".py",
   "mimetype": "text/x-python",
   "name": "python",
   "nbconvert_exporter": "python",
   "pygments_lexer": "ipython3",
   "version": "3.11.5"
  }
 },
 "nbformat": 4,
 "nbformat_minor": 5
}
